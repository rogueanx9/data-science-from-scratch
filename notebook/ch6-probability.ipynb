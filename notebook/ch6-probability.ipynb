{
 "cells": [
  {
   "cell_type": "markdown",
   "metadata": {},
   "source": [
    "Basic probability"
   ]
  },
  {
   "cell_type": "code",
   "execution_count": 5,
   "metadata": {},
   "outputs": [
    {
     "name": "stdout",
     "output_type": "stream",
     "text": [
      "Chance of both girl if older is girl: 0.4998697786236602, it should be close to 1/2 or 0.5\n",
      "Chance of both girl if either is girl: 0.3327687383302214, it should be close to 1/3 or 0.3333333333333333\n"
     ]
    }
   ],
   "source": [
    "import enum, random\n",
    "\n",
    "class Kid(enum.Enum):\n",
    "    BOY = 0\n",
    "    GIRL = 1\n",
    "\n",
    "def random_kid():\n",
    "    return random.choice([Kid.BOY, Kid.GIRL])\n",
    "\n",
    "both_girls = 0\n",
    "older_girl = 0\n",
    "either_girl = 0\n",
    "\n",
    "random.seed(0)\n",
    "\n",
    "# Monte Carlo\n",
    "for i in range(100000):\n",
    "    OLDER = random_kid()\n",
    "    YOUNGER = random_kid()\n",
    "\n",
    "    if OLDER == Kid.GIRL:\n",
    "        older_girl += 1\n",
    "    if OLDER == Kid.GIRL and YOUNGER == Kid.GIRL:\n",
    "        both_girls += 1\n",
    "    if OLDER == Kid.GIRL or YOUNGER == Kid.GIRL:\n",
    "        either_girl += 1\n",
    "\n",
    "print(f\"Chance of both girl if older is girl: {both_girls / older_girl}, it should be close to 1/2 or {1/2}\")\n",
    "print(f\"Chance of both girl if either is girl: {both_girls / either_girl}, it should be close to 1/3 or {1/3}\")"
   ]
  },
  {
   "cell_type": "code",
   "execution_count": null,
   "metadata": {},
   "outputs": [],
   "source": []
  }
 ],
 "metadata": {
  "interpreter": {
   "hash": "1fafa5d0db8feb272c4f02d4fcd16e124b49b5305e5e23eaf77736831bd3d24b"
  },
  "kernelspec": {
   "display_name": "Python 3.8.12 ('.env': venv)",
   "language": "python",
   "name": "python3"
  },
  "language_info": {
   "codemirror_mode": {
    "name": "ipython",
    "version": 3
   },
   "file_extension": ".py",
   "mimetype": "text/x-python",
   "name": "python",
   "nbconvert_exporter": "python",
   "pygments_lexer": "ipython3",
   "version": "3.8.12"
  },
  "orig_nbformat": 4
 },
 "nbformat": 4,
 "nbformat_minor": 2
}

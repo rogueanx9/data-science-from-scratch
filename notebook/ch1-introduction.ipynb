{
 "cells": [
  {
   "cell_type": "markdown",
   "metadata": {},
   "source": [
    "<h1 style=\"border-bottom:2px solid crimson;text-align:center\">Introduction</h1>"
   ]
  },
  {
   "cell_type": "markdown",
   "metadata": {},
   "source": [
    "Small database about user and their friend."
   ]
  },
  {
   "cell_type": "code",
   "execution_count": 2,
   "metadata": {},
   "outputs": [],
   "source": [
    "users = [ { \"id\": 0, \"name\": \"Hero\" }, { \"id\": 1, \"name\": \"Dunn\" }, { \"id\": 2, \"name\": \"Sue\" }, { \"id\": 3, \"name\": \"Chi\" }, { \"id\": 4, \"name\": \"Thor\" }, { \"id\": 5, \"name\": \"Clive\" }, { \"id\": 6, \"name\": \"Hicks\" }, { \"id\": 7, \"name\": \"Devin\" }, { \"id\": 8, \"name\": \"Kate\" }, { \"id\": 9, \"name\": \"Klein\" } ]\n",
    "friendship_pairs = [(0, 1), (0, 2), (1, 2), (1, 3), (2, 3), (3, 4), (4, 5), (5, 6), (5, 7), (6, 8), (7, 8), (8, 9)]"
   ]
  },
  {
   "cell_type": "markdown",
   "metadata": {},
   "source": [
    "We want to create a small database of user's friends"
   ]
  },
  {
   "cell_type": "code",
   "execution_count": 3,
   "metadata": {},
   "outputs": [
    {
     "data": {
      "text/plain": [
       "{0: [1, 2],\n",
       " 1: [0, 2, 3],\n",
       " 2: [0, 1, 3],\n",
       " 3: [1, 2, 4],\n",
       " 4: [3, 5],\n",
       " 5: [4, 6, 7],\n",
       " 6: [5, 8],\n",
       " 7: [5, 8],\n",
       " 8: [6, 7, 9],\n",
       " 9: [8]}"
      ]
     },
     "execution_count": 3,
     "metadata": {},
     "output_type": "execute_result"
    }
   ],
   "source": [
    "# Create a Dict for each user\n",
    "friend_finder = lambda user: [pair_ids[0] if pair_ids[0] != user[\"id\"] else pair_ids[1] for pair_ids in friendship_pairs if user[\"id\"] in pair_ids]\n",
    "friendship = {user[\"id\"]:friend_finder(user) for user in users}\n",
    "friendship"
   ]
  },
  {
   "cell_type": "markdown",
   "metadata": {},
   "source": [
    "We want to know average friend number."
   ]
  },
  {
   "cell_type": "code",
   "execution_count": 8,
   "metadata": {},
   "outputs": [
    {
     "data": {
      "text/plain": [
       "2.4"
      ]
     },
     "execution_count": 8,
     "metadata": {},
     "output_type": "execute_result"
    }
   ],
   "source": [
    "sum([len(x) for x in friendship.values()]) / len(friendship)"
   ]
  },
  {
   "cell_type": "markdown",
   "metadata": {},
   "source": [
    "We want to know the most friend user has."
   ]
  },
  {
   "cell_type": "code",
   "execution_count": 12,
   "metadata": {},
   "outputs": [
    {
     "data": {
      "text/plain": [
       "[(1, 3),\n",
       " (2, 3),\n",
       " (3, 3),\n",
       " (5, 3),\n",
       " (8, 3),\n",
       " (0, 2),\n",
       " (4, 2),\n",
       " (6, 2),\n",
       " (7, 2),\n",
       " (9, 1)]"
      ]
     },
     "execution_count": 12,
     "metadata": {},
     "output_type": "execute_result"
    }
   ],
   "source": [
    "friend_count = [(key, len(value)) for key, value in friendship.items()]\n",
    "friend_count.sort(key=lambda x: x[1], reverse=True)\n",
    "friend_count"
   ]
  },
  {
   "cell_type": "markdown",
   "metadata": {},
   "source": [
    "We want to know friend of user's friend. This is helpful to make a friend suggestion."
   ]
  },
  {
   "cell_type": "code",
   "execution_count": 17,
   "metadata": {},
   "outputs": [],
   "source": [
    "def find_mutual(_id, friends):\n",
    "    mutual = []\n",
    "    for friend in friends:\n",
    "        for fof in friendship[friend]:\n",
    "            if fof not in mutual and fof != _id and fof not in friends:\n",
    "                mutual.append(fof)\n",
    "    return mutual"
   ]
  },
  {
   "cell_type": "code",
   "execution_count": 18,
   "metadata": {},
   "outputs": [
    {
     "data": {
      "text/plain": [
       "{0: [3],\n",
       " 1: [4],\n",
       " 2: [4],\n",
       " 3: [0, 5],\n",
       " 4: [1, 2, 6, 7],\n",
       " 5: [3, 8],\n",
       " 6: [4, 7, 9],\n",
       " 7: [4, 6, 9],\n",
       " 8: [5],\n",
       " 9: [6, 7]}"
      ]
     },
     "execution_count": 18,
     "metadata": {},
     "output_type": "execute_result"
    }
   ],
   "source": [
    "mutual = {_id:find_mutual(_id, friends) for _id, friends in friendship.items()}\n",
    "mutual"
   ]
  },
  {
   "cell_type": "markdown",
   "metadata": {},
   "source": [
    "User's interest"
   ]
  },
  {
   "cell_type": "code",
   "execution_count": 19,
   "metadata": {},
   "outputs": [],
   "source": [
    "interests = [ (0, \"Hadoop\"), (0, \"Big Data\"), (0, \"HBase\"), (0, \"Java\"), (0, \"Spark\"), (0, \"Storm\"), (0, \"Cassandra\"), (1, \"NoSQL\"), (1, \"MongoDB\"), (1, \"Cassandra\"), (1, \"HBase\"), (1, \"Postgres\"), (2, \"Python\"), (2, \"scikit-learn\"), (2, \"scipy\"), (2, \"numpy\"), (2, \"statsmodels\"), (2, \"pandas\"), (3, \"R\"), (3, \"Python\"), (3, \"statistics\"), (3, \"regression\"), (3, \"probability\"), (4, \"machine learning\"), (4, \"regression\"), (4, \"decision trees\"), (4, \"libsvm\"), (5, \"Python\"), (5, \"R\"), (5, \"Java\"), (5, \"C++\"), (5, \"Haskell\"), (5, \"programming languages\"), (6, \"statistics\"), (6, \"probability\"), (6, \"mathematics\"), (6, \"theory\"), (7, \"machine learning\"), (7, \"scikit-learn\"), (7, \"Mahout\"), (7, \"neural networks\"), (8, \"neural networks\"), (8, \"deep learning\"), (8, \"Big Data\"), (8, \"artificial intelligence\"), (9, \"Hadoop\"), (9, \"Java\"), (9, \"MapReduce\"), (9, \"Big Data\") ]"
   ]
  },
  {
   "cell_type": "code",
   "execution_count": 20,
   "metadata": {},
   "outputs": [],
   "source": [
    "def who_like(target):\n",
    "    return [user_id for user_id, user_interest in interests if user_interest == target]"
   ]
  },
  {
   "cell_type": "code",
   "execution_count": 22,
   "metadata": {},
   "outputs": [],
   "source": [
    "def interests_by_id(id):\n",
    "    return [user_interest for user_id, user_interest in interests if user_id == id]"
   ]
  },
  {
   "cell_type": "code",
   "execution_count": 21,
   "metadata": {},
   "outputs": [
    {
     "data": {
      "text/plain": [
       "[0, 5, 9]"
      ]
     },
     "execution_count": 21,
     "metadata": {},
     "output_type": "execute_result"
    }
   ],
   "source": [
    "who_like(\"Java\")"
   ]
  },
  {
   "cell_type": "code",
   "execution_count": 47,
   "metadata": {},
   "outputs": [],
   "source": [
    "def similar_interest(target_id):\n",
    "    interest_dict = {}\n",
    "    for interest in interests_by_id(target_id):\n",
    "        for user_id in who_like(interest):\n",
    "            if user_id != target_id:\n",
    "                if user_id not in interest_dict.keys():\n",
    "                    interest_dict[user_id] = 1\n",
    "                else:\n",
    "                    interest_dict[user_id] += 1\n",
    "    return interest_dict"
   ]
  },
  {
   "cell_type": "code",
   "execution_count": 53,
   "metadata": {},
   "outputs": [],
   "source": [
    "import time"
   ]
  },
  {
   "cell_type": "code",
   "execution_count": 87,
   "metadata": {},
   "outputs": [
    {
     "data": {
      "text/plain": [
       "0.0457763671875"
      ]
     },
     "execution_count": 87,
     "metadata": {},
     "output_type": "execute_result"
    }
   ],
   "source": [
    "lim = 10\n",
    "c = 0\n",
    "for i in range(lim):\n",
    "    start = time.time()\n",
    "    similar_interest(0)\n",
    "    end = time.time()\n",
    "\n",
    "    c += (end-start)*1000\n",
    "c / lim"
   ]
  },
  {
   "cell_type": "code",
   "execution_count": 40,
   "metadata": {},
   "outputs": [],
   "source": [
    "from collections import Counter"
   ]
  },
  {
   "cell_type": "code",
   "execution_count": 86,
   "metadata": {},
   "outputs": [
    {
     "data": {
      "text/plain": [
       "0.040435791015625"
      ]
     },
     "execution_count": 86,
     "metadata": {},
     "output_type": "execute_result"
    }
   ],
   "source": [
    "lim = 10\n",
    "c = 0\n",
    "for i in range(lim):\n",
    "    start = time.time()\n",
    "    Counter(user_id for interest in interests_by_id(0) for user_id in who_like(interest) if user_id != 0)\n",
    "    end = time.time()\n",
    "\n",
    "    c += (end-start)*1000\n",
    "c / lim"
   ]
  },
  {
   "cell_type": "code",
   "execution_count": null,
   "metadata": {},
   "outputs": [],
   "source": []
  },
  {
   "cell_type": "code",
   "execution_count": null,
   "metadata": {},
   "outputs": [],
   "source": []
  }
 ],
 "metadata": {
  "interpreter": {
   "hash": "1fafa5d0db8feb272c4f02d4fcd16e124b49b5305e5e23eaf77736831bd3d24b"
  },
  "kernelspec": {
   "display_name": "Python 3.8.12 ('.env': venv)",
   "language": "python",
   "name": "python3"
  },
  "language_info": {
   "codemirror_mode": {
    "name": "ipython",
    "version": 3
   },
   "file_extension": ".py",
   "mimetype": "text/x-python",
   "name": "python",
   "nbconvert_exporter": "python",
   "pygments_lexer": "ipython3",
   "version": "3.8.12"
  },
  "orig_nbformat": 4
 },
 "nbformat": 4,
 "nbformat_minor": 2
}

{
 "cells": [
  {
   "cell_type": "code",
   "execution_count": 51,
   "metadata": {},
   "outputs": [],
   "source": [
    "import math\n",
    "from collections import Counter\n",
    "import matplotlib.pyplot as plt\n",
    "\n",
    "from typing import List"
   ]
  },
  {
   "cell_type": "code",
   "execution_count": 6,
   "metadata": {},
   "outputs": [
    {
     "name": "stdout",
     "output_type": "stream",
     "text": [
      "Unique: 24 | Length: 204\n"
     ]
    }
   ],
   "source": [
    "num_friends = [100.0,49,41,40,25,21,21,19,19,18,18,16,15,15,15,15,14,14,13,13,13,13,12,12,11,10,10,10,10,10,10,10,10,10,10,10,10,10,10,10,9,9,9,9,9,9,9,9,9,9,9,9,9,9,9,9,9,9,8,8,8,8,8,8,8,8,8,8,8,8,8,7,7,7,7,7,7,7,7,7,7,7,7,7,7,7,6,6,6,6,6,6,6,6,6,6,6,6,6,6,6,6,6,6,6,6,6,6,5,5,5,5,5,5,5,5,5,5,5,5,5,5,5,5,5,4,4,4,4,4,4,4,4,4,4,4,4,4,4,4,4,4,4,4,4,3,3,3,3,3,3,3,3,3,3,3,3,3,3,3,3,3,3,3,3,2,2,2,2,2,2,2,2,2,2,2,2,2,2,2,2,2,1,1,1,1,1,1,1,1,1,1,1,1,1,1,1,1,1,1,1,1,1,1]\n",
    "print(f\"Unique: {len(set(num_friends))} | Length: {len(num_friends)}\")"
   ]
  },
  {
   "cell_type": "code",
   "execution_count": 12,
   "metadata": {},
   "outputs": [
    {
     "data": {
      "image/png": "[encoded data removed]",
      "text/plain": [
       "<Figure size 864x576 with 1 Axes>"
      ]
     },
     "metadata": {
      "needs_background": "light"
     },
     "output_type": "display_data"
    }
   ],
   "source": [
    "friend_count = Counter(num_friends)\n",
    "\n",
    "# Data\n",
    "xs = range(101)\n",
    "ys = [friend_count[x] for x in xs]\n",
    "\n",
    "# Plot\n",
    "plt.figure(figsize=(12,8))\n",
    "plt.bar(xs, ys)\n",
    "plt.axis([0,101,0,25])\n",
    "plt.title(\"No. of friend  vs No. of people\")\n",
    "plt.xlabel(\"No. of friend\")\n",
    "plt.ylabel(\"No. of people\");"
   ]
  },
  {
   "cell_type": "markdown",
   "metadata": {},
   "source": [
    "get basic statistics"
   ]
  },
  {
   "cell_type": "code",
   "execution_count": 13,
   "metadata": {},
   "outputs": [
    {
     "name": "stdout",
     "output_type": "stream",
     "text": [
      "Data points: 204 | Max Value: 100.0 | Min Value: 1\n"
     ]
    }
   ],
   "source": [
    "num_points = len(num_friends)\n",
    "max_value = max(num_friends)\n",
    "min_value = min(num_friends)\n",
    "\n",
    "print(f\"Data points: {num_points} | Max Value: {max_value} | Min Value: {min_value}\")"
   ]
  },
  {
   "cell_type": "code",
   "execution_count": 18,
   "metadata": {},
   "outputs": [],
   "source": [
    "def mean(data: List[float]) -> float:\n",
    "    return sum(data) / len(data)"
   ]
  },
  {
   "cell_type": "code",
   "execution_count": 19,
   "metadata": {},
   "outputs": [
    {
     "data": {
      "text/plain": [
       "7.333333333333333"
      ]
     },
     "execution_count": 19,
     "metadata": {},
     "output_type": "execute_result"
    }
   ],
   "source": [
    "mean(num_friends)"
   ]
  },
  {
   "cell_type": "code",
   "execution_count": 20,
   "metadata": {},
   "outputs": [],
   "source": [
    "def _median_odd(data: List[float]) -> float:\n",
    "    return sorted(data)[len(data) // 2]\n",
    "\n",
    "def _median_even(data: List[float]) -> float:\n",
    "    sorted_data = sorted(data)\n",
    "    mid_point = len(data) // 2\n",
    "    return 0.5*(sorted_data[mid_point] + sorted_data[mid_point - 1])\n",
    "\n",
    "def median(data: List[float]) -> float:\n",
    "    return _median_even(data) if len(data) % 2 == 0 else _median_odd(data)"
   ]
  },
  {
   "cell_type": "code",
   "execution_count": 22,
   "metadata": {},
   "outputs": [],
   "source": [
    "# Sanity Check\n",
    "assert median([1, 10, 2, 9, 5]) == 5 \n",
    "assert median([1, 9, 2, 10]) == (2 + 9) / 2"
   ]
  },
  {
   "cell_type": "code",
   "execution_count": 21,
   "metadata": {},
   "outputs": [
    {
     "data": {
      "text/plain": [
       "6.0"
      ]
     },
     "execution_count": 21,
     "metadata": {},
     "output_type": "execute_result"
    }
   ],
   "source": [
    "median(num_friends)"
   ]
  },
  {
   "cell_type": "code",
   "execution_count": 24,
   "metadata": {},
   "outputs": [
    {
     "data": {
      "text/plain": [
       "False"
      ]
     },
     "execution_count": 24,
     "metadata": {},
     "output_type": "execute_result"
    }
   ],
   "source": [
    "1 < 4 < 3"
   ]
  },
  {
   "cell_type": "code",
   "execution_count": 32,
   "metadata": {},
   "outputs": [],
   "source": [
    "# Quantile\n",
    "def quantile(data: List[float], p: float) -> float:\n",
    "    # check if 0 < p < 1\n",
    "    assert 0 < p < 1, \"p value must be between 0 and 1\"\n",
    "    return sorted(data)[int(p * len(data))]"
   ]
  },
  {
   "cell_type": "code",
   "execution_count": 33,
   "metadata": {},
   "outputs": [
    {
     "ename": "AssertionError",
     "evalue": "p value must be between 0 and 1",
     "output_type": "error",
     "traceback": [
      "\u001b[0;31m---------------------------------------------------------------------------\u001b[0m",
      "\u001b[0;31mAssertionError\u001b[0m                            Traceback (most recent call last)",
      "\u001b[1;32m/home/permata/Projects/data-science-from-scratch/notebook/ch5-statistics.ipynb Cell 13'\u001b[0m in \u001b[0;36m<cell line: 1>\u001b[0;34m()\u001b[0m\n\u001b[0;32m----> <a href='vscode-notebook-cell:/home/permata/Projects/data-science-from-scratch/notebook/ch5-statistics.ipynb#ch0000014?line=0'>1</a>\u001b[0m quantile(num_friends, \u001b[39m1.2\u001b[39;49m)\n",
      "\u001b[1;32m/home/permata/Projects/data-science-from-scratch/notebook/ch5-statistics.ipynb Cell 12'\u001b[0m in \u001b[0;36mquantile\u001b[0;34m(data, p)\u001b[0m\n\u001b[1;32m      <a href='vscode-notebook-cell:/home/permata/Projects/data-science-from-scratch/notebook/ch5-statistics.ipynb#ch0000011?line=1'>2</a>\u001b[0m \u001b[39mdef\u001b[39;00m \u001b[39mquantile\u001b[39m(data: List[\u001b[39mfloat\u001b[39m], p: \u001b[39mfloat\u001b[39m) \u001b[39m-\u001b[39m\u001b[39m>\u001b[39m \u001b[39mfloat\u001b[39m:\n\u001b[1;32m      <a href='vscode-notebook-cell:/home/permata/Projects/data-science-from-scratch/notebook/ch5-statistics.ipynb#ch0000011?line=2'>3</a>\u001b[0m     \u001b[39m# check if 0 < p < 1\u001b[39;00m\n\u001b[0;32m----> <a href='vscode-notebook-cell:/home/permata/Projects/data-science-from-scratch/notebook/ch5-statistics.ipynb#ch0000011?line=3'>4</a>\u001b[0m     \u001b[39massert\u001b[39;00m \u001b[39m0\u001b[39m \u001b[39m<\u001b[39m p \u001b[39m<\u001b[39m \u001b[39m1\u001b[39m, \u001b[39m\"\u001b[39m\u001b[39mp value must be between 0 and 1\u001b[39m\u001b[39m\"\u001b[39m\n\u001b[1;32m      <a href='vscode-notebook-cell:/home/permata/Projects/data-science-from-scratch/notebook/ch5-statistics.ipynb#ch0000011?line=4'>5</a>\u001b[0m     \u001b[39mreturn\u001b[39;00m \u001b[39msorted\u001b[39m(data)[\u001b[39mint\u001b[39m(p \u001b[39m*\u001b[39m \u001b[39mlen\u001b[39m(data))]\n",
      "\u001b[0;31mAssertionError\u001b[0m: p value must be between 0 and 1"
     ]
    }
   ],
   "source": [
    "quantile(num_friends, 1.2)"
   ]
  },
  {
   "cell_type": "code",
   "execution_count": 34,
   "metadata": {},
   "outputs": [
    {
     "data": {
      "text/plain": [
       "dict_values([1, 1, 1, 1, 1, 2, 2, 2, 1, 4, 2, 4, 2, 1, 15, 18, 13, 15, 22, 17, 20, 20, 17, 22])"
      ]
     },
     "execution_count": 34,
     "metadata": {},
     "output_type": "execute_result"
    }
   ],
   "source": [
    "Counter(num_friends).values()"
   ]
  },
  {
   "cell_type": "code",
   "execution_count": 37,
   "metadata": {},
   "outputs": [],
   "source": [
    "# Mode\n",
    "def mode(data: List[float]) -> List[float]:\n",
    "    data_count = Counter(data)\n",
    "    return [key for key, value in data_count.items() if value == max(data_count.values())]"
   ]
  },
  {
   "cell_type": "code",
   "execution_count": 40,
   "metadata": {},
   "outputs": [],
   "source": [
    "# Sanity check\n",
    "assert set(mode(num_friends)) == {1,6}"
   ]
  },
  {
   "cell_type": "code",
   "execution_count": 41,
   "metadata": {},
   "outputs": [],
   "source": [
    "# Data Range\n",
    "def data_range(data: List[float]) -> float:\n",
    "    return max(data) - min(data)"
   ]
  },
  {
   "cell_type": "code",
   "execution_count": 42,
   "metadata": {},
   "outputs": [],
   "source": [
    "# Sanity check\n",
    "assert data_range(num_friends) == 99"
   ]
  },
  {
   "cell_type": "code",
   "execution_count": 48,
   "metadata": {},
   "outputs": [],
   "source": [
    "# Variance\n",
    "def de_mean(data: List[float]) -> List[float]:\n",
    "    xbar = mean(data)\n",
    "    return [x-xbar for x in data]\n",
    "\n",
    "def variance(data: List[float]) -> float:\n",
    "    n = len(data)\n",
    "\n",
    "    # Check data has 2 or more elements\n",
    "    assert n >= 2\n",
    "\n",
    "    deviation = de_mean(data)\n",
    "    return sum([x*x for x in deviation]) / (n - 1)"
   ]
  },
  {
   "cell_type": "code",
   "execution_count": 49,
   "metadata": {},
   "outputs": [],
   "source": [
    "# Sanity Check\n",
    "assert 81.54 < variance(num_friends) < 81.55"
   ]
  },
  {
   "cell_type": "code",
   "execution_count": 52,
   "metadata": {},
   "outputs": [],
   "source": [
    "# Satandard Deviation\n",
    "def std(data: List[float]) -> float:\n",
    "    return math.sqrt(variance(data))"
   ]
  },
  {
   "cell_type": "code",
   "execution_count": 54,
   "metadata": {},
   "outputs": [],
   "source": [
    "# Sanity Checks\n",
    "assert 9.02 < std(num_friends) < 9.04"
   ]
  },
  {
   "cell_type": "code",
   "execution_count": 55,
   "metadata": {},
   "outputs": [],
   "source": [
    "# Interquantile\n",
    "def inter_quantile(data: List[float]) -> float:\n",
    "    return quantile(data, 0.75) - quantile(data, 0.25)"
   ]
  },
  {
   "cell_type": "code",
   "execution_count": 57,
   "metadata": {},
   "outputs": [],
   "source": [
    "# Sanity check\n",
    "assert inter_quantile(num_friends) == 6"
   ]
  },
  {
   "cell_type": "markdown",
   "metadata": {},
   "source": [
    "Check correlation. Here is new data for comparisons."
   ]
  },
  {
   "cell_type": "code",
   "execution_count": 58,
   "metadata": {},
   "outputs": [],
   "source": [
    "daily_minutes = [1,68.77,51.25,52.08,38.36,44.54,57.13,51.4,41.42,31.22,34.76,54.01,38.79,47.59,49.1,27.66,41.03,36.73,48.65,28.12,46.62,35.57,32.98,35,26.07,23.77,39.73,40.57,31.65,31.21,36.32,20.45,21.93,26.02,27.34,23.49,46.94,30.5,33.8,24.23,21.4,27.94,32.24,40.57,25.07,19.42,22.39,18.42,46.96,23.72,26.41,26.97,36.76,40.32,35.02,29.47,30.2,31,38.11,38.18,36.31,21.03,30.86,36.07,28.66,29.08,37.28,15.28,24.17,22.31,30.17,25.53,19.85,35.37,44.6,17.23,13.47,26.33,35.02,32.09,24.81,19.33,28.77,24.26,31.98,25.73,24.86,16.28,34.51,15.23,39.72,40.8,26.06,35.76,34.76,16.13,44.04,18.03,19.65,32.62,35.59,39.43,14.18,35.24,40.13,41.82,35.45,36.07,43.67,24.61,20.9,21.9,18.79,27.61,27.21,26.61,29.77,20.59,27.53,13.82,33.2,25,33.1,36.65,18.63,14.87,22.2,36.81,25.53,24.62,26.25,18.21,28.08,19.42,29.79,32.8,35.99,28.32,27.79,35.88,29.06,36.28,14.1,36.63,37.49,26.9,18.58,38.48,24.48,18.95,33.55,14.24,29.04,32.51,25.63,22.22,19,32.73,15.16,13.9,27.2,32.01,29.27,33,13.74,20.42,27.32,18.23,35.35,28.48,9.08,24.62,20.12,35.26,19.92,31.02,16.49,12.16,30.7,31.22,34.65,13.13,27.51,33.2,31.57,14.1,33.42,17.44,10.12,24.42,9.82,23.39,30.93,15.03,21.67,31.09,33.29,22.61,26.89,23.48,8.38,27.81,32.35,23.84]\n",
    "daily_hours = [dm / 60 for dm in daily_minutes]"
   ]
  },
  {
   "cell_type": "code",
   "execution_count": 62,
   "metadata": {},
   "outputs": [],
   "source": [
    "def covariance(xs: List[float], ys: List[float]) -> float:\n",
    "    # Check xs and ys has same length\n",
    "    assert len(xs) == len(ys), \"Both data need equal length\"\n",
    "    return sum([x*y for x, y in zip(de_mean(xs), de_mean(ys))]) / (len(xs) - 1)"
   ]
  },
  {
   "cell_type": "code",
   "execution_count": 64,
   "metadata": {},
   "outputs": [],
   "source": [
    "# Sanity check\n",
    "assert 22.42 < covariance(num_friends, daily_minutes) < 22.43"
   ]
  },
  {
   "cell_type": "code",
   "execution_count": 65,
   "metadata": {},
   "outputs": [],
   "source": [
    "def correlation(xs: List[float], ys: List[float]) -> float:\n",
    "    std_x = std(xs)\n",
    "    std_y = std(ys)\n",
    "\n",
    "    if std_x > 0  and std_y > 0:\n",
    "        return covariance(xs, ys) / std_x / std_y\n",
    "    else:\n",
    "        return 0"
   ]
  },
  {
   "cell_type": "code",
   "execution_count": 66,
   "metadata": {},
   "outputs": [],
   "source": [
    "assert 0.24 < correlation(num_friends, daily_minutes) < 0.25"
   ]
  },
  {
   "cell_type": "markdown",
   "metadata": {},
   "source": [
    "The correlation is unitless and always lies between –1 (perfect anticorrelation) and 1 (perfect correlation). <br>\n",
    "A number like 0.25 represents a\n",
    "relatively weak positive correlation"
   ]
  },
  {
   "cell_type": "code",
   "execution_count": 69,
   "metadata": {},
   "outputs": [
    {
     "data": {
      "image/png": "[encoded data removed]",
      "text/plain": [
       "<Figure size 864x432 with 1 Axes>"
      ]
     },
     "metadata": {
      "needs_background": "light"
     },
     "output_type": "display_data"
    }
   ],
   "source": [
    "plt.figure(figsize=(12,6))\n",
    "plt.scatter(num_friends, daily_minutes)\n",
    "plt.title(\"Correlation with outlier\")\n",
    "plt.xlabel(\"No. of friend\")\n",
    "plt.ylabel(\"minutes per day\");"
   ]
  },
  {
   "cell_type": "code",
   "execution_count": 75,
   "metadata": {},
   "outputs": [
    {
     "name": "stdout",
     "output_type": "stream",
     "text": [
      "[49, 68.77] [41, 51.25] [40, 52.08] [25, 38.36] [21, 44.54] [21, 57.13] [19, 51.4] [19, 41.42] [18, 31.22] [18, 34.76] [16, 54.01] [15, 38.79] [15, 47.59] [15, 49.1] [15, 27.66] [14, 41.03] [14, 36.73] [13, 48.65] [13, 28.12] [13, 46.62] [13, 35.57] [12, 32.98] [12, 35] [11, 26.07] [10, 23.77] [10, 39.73] [10, 40.57] [10, 31.65] [10, 31.21] [10, 36.32] [10, 20.45] [10, 21.93] [10, 26.02] [10, 27.34] [10, 23.49] [10, 46.94] [10, 30.5] [10, 33.8] [10, 24.23] [9, 21.4] [9, 27.94] [9, 32.24] [9, 40.57] [9, 25.07] [9, 19.42] [9, 22.39] [9, 18.42] [9, 46.96] [9, 23.72] [9, 26.41] [9, 26.97] [9, 36.76] [9, 40.32] [9, 35.02] [9, 29.47] [9, 30.2] [9, 31] [8, 38.11] [8, 38.18] [8, 36.31] [8, 21.03] [8, 30.86] [8, 36.07] [8, 28.66] [8, 29.08] [8, 37.28] [8, 15.28] [8, 24.17] [8, 22.31] [8, 30.17] [7, 25.53] [7, 19.85] [7, 35.37] [7, 44.6] [7, 17.23] [7, 13.47] [7, 26.33] [7, 35.02] [7, 32.09] [7, 24.81] [7, 19.33] [7, 28.77] [7, 24.26] [7, 31.98] [7, 25.73] [6, 24.86] [6, 16.28] [6, 34.51] [6, 15.23] [6, 39.72] [6, 40.8] [6, 26.06] [6, 35.76] [6, 34.76] [6, 16.13] [6, 44.04] [6, 18.03] [6, 19.65] [6, 32.62] [6, 35.59] [6, 39.43] [6, 14.18] [6, 35.24] [6, 40.13] [6, 41.82] [6, 35.45] [6, 36.07] [5, 43.67] [5, 24.61] [5, 20.9] [5, 21.9] [5, 18.79] [5, 27.61] [5, 27.21] [5, 26.61] [5, 29.77] [5, 20.59] [5, 27.53] [5, 13.82] [5, 33.2] [5, 25] [5, 33.1] [5, 36.65] [5, 18.63] [4, 14.87] [4, 22.2] [4, 36.81] [4, 25.53] [4, 24.62] [4, 26.25] [4, 18.21] [4, 28.08] [4, 19.42] [4, 29.79] [4, 32.8] [4, 35.99] [4, 28.32] [4, 27.79] [4, 35.88] [4, 29.06] [4, 36.28] [4, 14.1] [4, 36.63] [4, 37.49] [3, 26.9] [3, 18.58] [3, 38.48] [3, 24.48] [3, 18.95] [3, 33.55] [3, 14.24] [3, 29.04] [3, 32.51] [3, 25.63] [3, 22.22] [3, 19] [3, 32.73] [3, 15.16] [3, 13.9] [3, 27.2] [3, 32.01] [3, 29.27] [3, 33] [3, 13.74] [2, 20.42] [2, 27.32] [2, 18.23] [2, 35.35] [2, 28.48] [2, 9.08] [2, 24.62] [2, 20.12] [2, 35.26] [2, 19.92] [2, 31.02] [2, 16.49] [2, 12.16] [2, 30.7] [2, 31.22] [2, 34.65] [2, 13.13] [1, 27.51] [1, 33.2] [1, 31.57] [1, 14.1] [1, 33.42] [1, 17.44] [1, 10.12] [1, 24.42] [1, 9.82] [1, 23.39] [1, 30.93] [1, 15.03] [1, 21.67] [1, 31.09] [1, 33.29] [1, 22.61] [1, 26.89] [1, 23.48] [1, 8.38] [1, 27.81] [1, 32.35] [1, 23.84]\n"
     ]
    }
   ],
   "source": [
    "print(*[[x] for x,y in zip(num_friends, daily_minutes) if x != 100])"
   ]
  },
  {
   "cell_type": "code",
   "execution_count": 77,
   "metadata": {},
   "outputs": [],
   "source": [
    "# Without outlier\n",
    "xs_o,ys_o = [x for x in num_friends if x != 100], [y for _,y in zip(num_friends, daily_minutes) if _ != 100]"
   ]
  },
  {
   "cell_type": "code",
   "execution_count": 78,
   "metadata": {},
   "outputs": [
    {
     "data": {
      "image/png": "[encoded data removed]",
      "text/plain": [
       "<Figure size 864x432 with 1 Axes>"
      ]
     },
     "metadata": {
      "needs_background": "light"
     },
     "output_type": "display_data"
    }
   ],
   "source": [
    "plt.figure(figsize=(12,6))\n",
    "plt.scatter(xs_o, ys_o)\n",
    "plt.title(\"Correlation without outlier\")\n",
    "plt.xlabel(\"No. of friend\")\n",
    "plt.ylabel(\"minutes per day\");"
   ]
  },
  {
   "cell_type": "code",
   "execution_count": 79,
   "metadata": {},
   "outputs": [
    {
     "data": {
      "text/plain": [
       "0.5736792115665573"
      ]
     },
     "execution_count": 79,
     "metadata": {},
     "output_type": "execute_result"
    }
   ],
   "source": [
    "correlation(xs_o, ys_o)"
   ]
  },
  {
   "cell_type": "code",
   "execution_count": null,
   "metadata": {},
   "outputs": [],
   "source": []
  }
 ],
 "metadata": {
  "interpreter": {
   "hash": "1fafa5d0db8feb272c4f02d4fcd16e124b49b5305e5e23eaf77736831bd3d24b"
  },
  "kernelspec": {
   "display_name": "Python 3.8.12 ('.env': venv)",
   "language": "python",
   "name": "python3"
  },
  "language_info": {
   "codemirror_mode": {
    "name": "ipython",
    "version": 3
   },
   "file_extension": ".py",
   "mimetype": "text/x-python",
   "name": "python",
   "nbconvert_exporter": "python",
   "pygments_lexer": "ipython3",
   "version": "3.8.12"
  },
  "orig_nbformat": 4
 },
 "nbformat": 4,
 "nbformat_minor": 2
}

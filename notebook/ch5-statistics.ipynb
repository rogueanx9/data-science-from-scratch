{
 "cells": [
  {
   "cell_type": "code",
   "execution_count": 51,
   "metadata": {},
   "outputs": [],
   "source": [
    "import math\n",
    "from collections import Counter\n",
    "import matplotlib.pyplot as plt\n",
    "\n",
    "from typing import List"
   ]
  },
  {
   "cell_type": "code",
   "execution_count": 6,
   "metadata": {},
   "outputs": [
    {
     "name": "stdout",
     "output_type": "stream",
     "text": [
      "Unique: 24 | Length: 204\n"
     ]
    }
   ],
   "source": [
    "num_friends = [100.0,49,41,40,25,21,21,19,19,18,18,16,15,15,15,15,14,14,13,13,13,13,12,12,11,10,10,10,10,10,10,10,10,10,10,10,10,10,10,10,9,9,9,9,9,9,9,9,9,9,9,9,9,9,9,9,9,9,8,8,8,8,8,8,8,8,8,8,8,8,8,7,7,7,7,7,7,7,7,7,7,7,7,7,7,7,6,6,6,6,6,6,6,6,6,6,6,6,6,6,6,6,6,6,6,6,6,6,5,5,5,5,5,5,5,5,5,5,5,5,5,5,5,5,5,4,4,4,4,4,4,4,4,4,4,4,4,4,4,4,4,4,4,4,4,3,3,3,3,3,3,3,3,3,3,3,3,3,3,3,3,3,3,3,3,2,2,2,2,2,2,2,2,2,2,2,2,2,2,2,2,2,1,1,1,1,1,1,1,1,1,1,1,1,1,1,1,1,1,1,1,1,1,1]\n",
    "print(f\"Unique: {len(set(num_friends))} | Length: {len(num_friends)}\")"
   ]
  },
  {
   "cell_type": "code",
   "execution_count": 12,
   "metadata": {},
   "outputs": [
    {
     "data": {
      "image/png": "[encoded data removed]",
      "text/plain": [
       "<Figure size 864x576 with 1 Axes>"
      ]
     },
     "metadata": {
      "needs_background": "light"
     },
     "output_type": "display_data"
    }
   ],
   "source": [
    "friend_count = Counter(num_friends)\n",
    "\n",
    "# Data\n",
    "xs = range(101)\n",
    "ys = [friend_count[x] for x in xs]\n",
    "\n",
    "# Plot\n",
    "plt.figure(figsize=(12,8))\n",
    "plt.bar(xs, ys)\n",
    "plt.axis([0,101,0,25])\n",
    "plt.title(\"No. of friend  vs No. of people\")\n",
    "plt.xlabel(\"No. of friend\")\n",
    "plt.ylabel(\"No. of people\");"
   ]
  },
  {
   "cell_type": "markdown",
   "metadata": {},
   "source": [
    "get basic statistics"
   ]
  },
  {
   "cell_type": "code",
   "execution_count": 13,
   "metadata": {},
   "outputs": [
    {
     "name": "stdout",
     "output_type": "stream",
     "text": [
      "Data points: 204 | Max Value: 100.0 | Min Value: 1\n"
     ]
    }
   ],
   "source": [
    "num_points = len(num_friends)\n",
    "max_value = max(num_friends)\n",
    "min_value = min(num_friends)\n",
    "\n",
    "print(f\"Data points: {num_points} | Max Value: {max_value} | Min Value: {min_value}\")"
   ]
  },
  {
   "cell_type": "code",
   "execution_count": 18,
   "metadata": {},
   "outputs": [],
   "source": [
    "def mean(data: List[float]) -> float:\n",
    "    return sum(data) / len(data)"
   ]
  },
  {
   "cell_type": "code",
   "execution_count": 19,
   "metadata": {},
   "outputs": [
    {
     "data": {
      "text/plain": [
       "7.333333333333333"
      ]
     },
     "execution_count": 19,
     "metadata": {},
     "output_type": "execute_result"
    }
   ],
   "source": [
    "mean(num_friends)"
   ]
  },
  {
   "cell_type": "code",
   "execution_count": 20,
   "metadata": {},
   "outputs": [],
   "source": [
    "def _median_odd(data: List[float]) -> float:\n",
    "    return sorted(data)[len(data) // 2]\n",
    "\n",
    "def _median_even(data: List[float]) -> float:\n",
    "    sorted_data = sorted(data)\n",
    "    mid_point = len(data) // 2\n",
    "    return 0.5*(sorted_data[mid_point] + sorted_data[mid_point - 1])\n",
    "\n",
    "def median(data: List[float]) -> float:\n",
    "    return _median_even(data) if len(data) % 2 == 0 else _median_odd(data)"
   ]
  },
  {
   "cell_type": "code",
   "execution_count": 22,
   "metadata": {},
   "outputs": [],
   "source": [
    "# Sanity Check\n",
    "assert median([1, 10, 2, 9, 5]) == 5 \n",
    "assert median([1, 9, 2, 10]) == (2 + 9) / 2"
   ]
  },
  {
   "cell_type": "code",
   "execution_count": 21,
   "metadata": {},
   "outputs": [
    {
     "data": {
      "text/plain": [
       "6.0"
      ]
     },
     "execution_count": 21,
     "metadata": {},
     "output_type": "execute_result"
    }
   ],
   "source": [
    "median(num_friends)"
   ]
  },
  {
   "cell_type": "code",
   "execution_count": 24,
   "metadata": {},
   "outputs": [
    {
     "data": {
      "text/plain": [
       "False"
      ]
     },
     "execution_count": 24,
     "metadata": {},
     "output_type": "execute_result"
    }
   ],
   "source": [
    "1 < 4 < 3"
   ]
  },
  {
   "cell_type": "code",
   "execution_count": 32,
   "metadata": {},
   "outputs": [],
   "source": [
    "# Quantile\n",
    "def quantile(data: List[float], p: float) -> float:\n",
    "    # check if 0 < p < 1\n",
    "    assert 0 < p < 1, \"p value must be between 0 and 1\"\n",
    "    return sorted(data)[int(p * len(data))]"
   ]
  },
  {
   "cell_type": "code",
   "execution_count": 33,
   "metadata": {},
   "outputs": [
    {
     "ename": "AssertionError",
     "evalue": "p value must be between 0 and 1",
     "output_type": "error",
     "traceback": [
      "\u001b[0;31m---------------------------------------------------------------------------\u001b[0m",
      "\u001b[0;31mAssertionError\u001b[0m                            Traceback (most recent call last)",
      "\u001b[1;32m/home/permata/Projects/data-science-from-scratch/notebook/ch5-statistics.ipynb Cell 13'\u001b[0m in \u001b[0;36m<cell line: 1>\u001b[0;34m()\u001b[0m\n\u001b[0;32m----> <a href='vscode-notebook-cell:/home/permata/Projects/data-science-from-scratch/notebook/ch5-statistics.ipynb#ch0000014?line=0'>1</a>\u001b[0m quantile(num_friends, \u001b[39m1.2\u001b[39;49m)\n",
      "\u001b[1;32m/home/permata/Projects/data-science-from-scratch/notebook/ch5-statistics.ipynb Cell 12'\u001b[0m in \u001b[0;36mquantile\u001b[0;34m(data, p)\u001b[0m\n\u001b[1;32m      <a href='vscode-notebook-cell:/home/permata/Projects/data-science-from-scratch/notebook/ch5-statistics.ipynb#ch0000011?line=1'>2</a>\u001b[0m \u001b[39mdef\u001b[39;00m \u001b[39mquantile\u001b[39m(data: List[\u001b[39mfloat\u001b[39m], p: \u001b[39mfloat\u001b[39m) \u001b[39m-\u001b[39m\u001b[39m>\u001b[39m \u001b[39mfloat\u001b[39m:\n\u001b[1;32m      <a href='vscode-notebook-cell:/home/permata/Projects/data-science-from-scratch/notebook/ch5-statistics.ipynb#ch0000011?line=2'>3</a>\u001b[0m     \u001b[39m# check if 0 < p < 1\u001b[39;00m\n\u001b[0;32m----> <a href='vscode-notebook-cell:/home/permata/Projects/data-science-from-scratch/notebook/ch5-statistics.ipynb#ch0000011?line=3'>4</a>\u001b[0m     \u001b[39massert\u001b[39;00m \u001b[39m0\u001b[39m \u001b[39m<\u001b[39m p \u001b[39m<\u001b[39m \u001b[39m1\u001b[39m, \u001b[39m\"\u001b[39m\u001b[39mp value must be between 0 and 1\u001b[39m\u001b[39m\"\u001b[39m\n\u001b[1;32m      <a href='vscode-notebook-cell:/home/permata/Projects/data-science-from-scratch/notebook/ch5-statistics.ipynb#ch0000011?line=4'>5</a>\u001b[0m     \u001b[39mreturn\u001b[39;00m \u001b[39msorted\u001b[39m(data)[\u001b[39mint\u001b[39m(p \u001b[39m*\u001b[39m \u001b[39mlen\u001b[39m(data))]\n",
      "\u001b[0;31mAssertionError\u001b[0m: p value must be between 0 and 1"
     ]
    }
   ],
   "source": [
    "quantile(num_friends, 1.2)"
   ]
  },
  {
   "cell_type": "code",
   "execution_count": 34,
   "metadata": {},
   "outputs": [
    {
     "data": {
      "text/plain": [
       "dict_values([1, 1, 1, 1, 1, 2, 2, 2, 1, 4, 2, 4, 2, 1, 15, 18, 13, 15, 22, 17, 20, 20, 17, 22])"
      ]
     },
     "execution_count": 34,
     "metadata": {},
     "output_type": "execute_result"
    }
   ],
   "source": [
    "Counter(num_friends).values()"
   ]
  },
  {
   "cell_type": "code",
   "execution_count": 37,
   "metadata": {},
   "outputs": [],
   "source": [
    "# Mode\n",
    "def mode(data: List[float]) -> List[float]:\n",
    "    data_count = Counter(data)\n",
    "    return [key for key, value in data_count.items() if value == max(data_count.values())]"
   ]
  },
  {
   "cell_type": "code",
   "execution_count": 40,
   "metadata": {},
   "outputs": [],
   "source": [
    "# Sanity check\n",
    "assert set(mode(num_friends)) == {1,6}"
   ]
  },
  {
   "cell_type": "code",
   "execution_count": 41,
   "metadata": {},
   "outputs": [],
   "source": [
    "# Data Range\n",
    "def data_range(data: List[float]) -> float:\n",
    "    return max(data) - min(data)"
   ]
  },
  {
   "cell_type": "code",
   "execution_count": 42,
   "metadata": {},
   "outputs": [],
   "source": [
    "# Sanity check\n",
    "assert data_range(num_friends) == 99"
   ]
  },
  {
   "cell_type": "code",
   "execution_count": 48,
   "metadata": {},
   "outputs": [],
   "source": [
    "# Variance\n",
    "def de_mean(data: List[float]) -> List[float]:\n",
    "    xbar = mean(data)\n",
    "    return [x-xbar for x in data]\n",
    "\n",
    "def variance(data: List[float]) -> float:\n",
    "    n = len(data)\n",
    "\n",
    "    # Check data has 2 or more elements\n",
    "    assert n >= 2\n",
    "\n",
    "    deviation = de_mean(data)\n",
    "    return sum([x*x for x in deviation]) / (n - 1)"
   ]
  },
  {
   "cell_type": "code",
   "execution_count": 49,
   "metadata": {},
   "outputs": [],
   "source": [
    "# Sanity Check\n",
    "assert 81.54 < variance(num_friends) < 81.55"
   ]
  },
  {
   "cell_type": "code",
   "execution_count": 52,
   "metadata": {},
   "outputs": [],
   "source": [
    "# Satandard Deviation\n",
    "def std(data: List[float]) -> float:\n",
    "    return math.sqrt(variance(data))"
   ]
  },
  {
   "cell_type": "code",
   "execution_count": 54,
   "metadata": {},
   "outputs": [],
   "source": [
    "# Sanity Checks\n",
    "assert 9.02 < std(num_friends) < 9.04"
   ]
  },
  {
   "cell_type": "code",
   "execution_count": null,
   "metadata": {},
   "outputs": [],
   "source": []
  }
 ],
 "metadata": {
  "interpreter": {
   "hash": "1fafa5d0db8feb272c4f02d4fcd16e124b49b5305e5e23eaf77736831bd3d24b"
  },
  "kernelspec": {
   "display_name": "Python 3.8.12 ('.env': venv)",
   "language": "python",
   "name": "python3"
  },
  "language_info": {
   "codemirror_mode": {
    "name": "ipython",
    "version": 3
   },
   "file_extension": ".py",
   "mimetype": "text/x-python",
   "name": "python",
   "nbconvert_exporter": "python",
   "pygments_lexer": "ipython3",
   "version": "3.8.12"
  },
  "orig_nbformat": 4
 },
 "nbformat": 4,
 "nbformat_minor": 2
}
